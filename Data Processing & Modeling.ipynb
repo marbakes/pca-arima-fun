{
 "cells": [
  {
   "cell_type": "code",
   "execution_count": 1,
   "metadata": {},
   "outputs": [],
   "source": [
    "import pandas as pd\n",
    "import numpy as np\n",
    "import matplotlib.pyplot as plt\n",
    "import ftplib\n",
    "import io"
   ]
  },
  {
   "cell_type": "markdown",
   "metadata": {},
   "source": [
    "Read in csv from NOAA ftp server\n",
    "\n",
    "Citation: <br>\n",
    "Burtner, Ashley; Palladino, Danna; Kitchens, Christine; Fyffe, Deanna; Johengen, Tom; Stuart, Dack; Cooperative Institute for Great Lakes Research, University of Michigan; Fanslow, David; Gossiaux, Duane; National Oceanic and Atmospheric Administration; Great Lakes Environmental Research Laboratory (2019). Physical, chemical, and biological water quality data collected from a small boat in western Lake Erie, Great Lakes from 2012-05-15 to 2018-10-09 (NCEI Accession 0187718). NOAA National Centers for Environmental Information. Dataset. https://accession.nodc.noaa.gov/0187718. Accessed 06-14-2020."
   ]
  },
  {
   "cell_type": "code",
   "execution_count": 52,
   "metadata": {},
   "outputs": [
    {
     "data": {
      "text/plain": [
       "'221 Goodbye.'"
      ]
     },
     "execution_count": 52,
     "metadata": {},
     "output_type": "execute_result"
    }
   ],
   "source": [
    "ftp = ftplib.FTP(\"ftp.nodc.noaa.gov\")\n",
    "ftp.login()\n",
    "ftp.cwd(\"nodc/archive/arc0135/0187718/2.2/data/0-data/\")\n",
    "ftp.nlst()\n",
    "download_file = io.BytesIO()\n",
    "ftp.retrbinary('RETR lake_erie_habs_field_sampling_results_2012_2018_v2.csv', download_file.write)\n",
    "download_file.seek(0)\n",
    "data = pd.read_csv(download_file, engine='python', encoding = \"ISO-8859-1\")\n",
    "ftp.quit()"
   ]
  },
  {
   "cell_type": "markdown",
   "metadata": {},
   "source": [
    "List exogenous variables to use in model. These are all physical/chemical properties of the water sample.\n",
    "Endogenous variable is Particulate Microcystin (µg/L). This is the measure of the algae toxins contained."
   ]
  },
  {
   "cell_type": "code",
   "execution_count": 147,
   "metadata": {},
   "outputs": [],
   "source": [
    "columns = [\n",
    "    'Particulate Microcystin (µg/L)',\n",
    "    'Extracted Phycocyanin (µg/L)',\n",
    "    'Extracted Chlorophyll a (µg/L)',\n",
    "    'CTD Dissolved Oxygen (mg/L)',\n",
    "    'CTD Specific Conductivity (µS/cm)',\n",
    "    'CTD Photosynthetically Active Radiation (µE/m2/s)',\n",
    "    'CTD Temperature (°C)',\n",
    "    'CTD Tramission (%)',\n",
    "    'CTD Beam Attenuation (m-1)',\n",
    "    'Ammonia (µg N/L)',\n",
    "    'Soluble Reactive Phosphorus (µg P/L)',\n",
    "    'Nitrate + Nitrite (mg N/L)',\n",
    "    'Total Dissolved Phosphorus (µg P/L)',\n",
    "    'Particulate Organic Carbon (mg/L)',\n",
    "    'Total Phosphorus (µg P/L)',\n",
    "    'Particulate Organic Nitrogen (mg/L)',\n",
    "    'Volatile Suspended Solids (mg/L)',\n",
    "    'Total Suspended Solids (mg/L)'\n",
    "]"
   ]
  },
  {
   "cell_type": "markdown",
   "metadata": {},
   "source": [
    "Cast null values where values are blank or 'nd'."
   ]
  },
  {
   "cell_type": "code",
   "execution_count": 148,
   "metadata": {},
   "outputs": [
    {
     "name": "stderr",
     "output_type": "stream",
     "text": [
      "/home/marinbak/miniconda3/envs/dsi/lib/python3.7/site-packages/ipykernel_launcher.py:2: FutureWarning: elementwise comparison failed; returning scalar instead, but in the future will perform elementwise comparison\n",
      "  \n"
     ]
    }
   ],
   "source": [
    "for column in columns:\n",
    "    if ' ' in data[column].unique() or 'nd' in data[column].unique():\n",
    "        data.loc[data[column].isin([' ', 'nd']), column] = np.nan\n",
    "        try:\n",
    "            data[column] = data[column].astype('float64')\n",
    "        except:\n",
    "            pass"
   ]
  },
  {
   "cell_type": "markdown",
   "metadata": {},
   "source": [
    "List columns that have < in their values."
   ]
  },
  {
   "cell_type": "code",
   "execution_count": 150,
   "metadata": {},
   "outputs": [
    {
     "name": "stdout",
     "output_type": "stream",
     "text": [
      "Particulate Microcystin (µg/L)\n",
      "['<0.1']\n",
      "Extracted Phycocyanin (µg/L)\n",
      "['<0.036' '<0.06' '<0.36' '<0.9' '<0.45' '<1.8' '<0.6' '<40' '<0.03']\n",
      "Ammonia (µg N/L)\n",
      "['<0.04' '<0.4']\n",
      "Soluble Reactive Phosphorus (µg P/L)\n",
      "['<0.25']\n",
      "Nitrate + Nitrite (mg N/L)\n",
      "['<0.002']\n"
     ]
    }
   ],
   "source": [
    "for column in columns:\n",
    "    if data[column].dtype != 'float64':\n",
    "        print(column)\n",
    "        print(data.loc[data[column].str.contains(\"<\").fillna(False), column].unique())"
   ]
  },
  {
   "cell_type": "markdown",
   "metadata": {},
   "source": [
    "Define functions to either replace \"<x\" values with zeros or with the value without the \"<\"."
   ]
  },
  {
   "cell_type": "code",
   "execution_count": 145,
   "metadata": {},
   "outputs": [],
   "source": [
    "def zero_less_thans(df, column, zero_thres):\n",
    "    df.loc[df[column] == zero_thres, column] = 0"
   ]
  },
  {
   "cell_type": "code",
   "execution_count": 155,
   "metadata": {},
   "outputs": [],
   "source": [
    "def fill_less_thans(df, column):\n",
    "    df.loc[df[column].str.contains(\"<\").fillna(False), column] = df.loc[df[column].str.contains(\"<\").fillna(False), column].str.replace(\"<\", \"\")"
   ]
  },
  {
   "cell_type": "markdown",
   "metadata": {},
   "source": [
    "For all columns containing \"<x\" value, replace the smallest \"<x\" value with zero, and replace others with x, <br>\n",
    "except 'Ammonia (µg N/L)', since '<0.4' is probably a transcription error of '0.04' so replace both with zeros."
   ]
  },
  {
   "cell_type": "code",
   "execution_count": 152,
   "metadata": {},
   "outputs": [],
   "source": [
    "zero_less_thans(data, 'Particulate Microcystin (µg/L)', '<0.1')\n",
    "zero_less_thans(data, 'Extracted Phycocyanin (µg/L)', '<0.03')\n",
    "zero_less_thans(data, 'Ammonia (µg N/L)', '<0.04')\n",
    "zero_less_thans(data, 'Ammonia (µg N/L)', '<0.4')\n",
    "zero_less_thans(data, 'Soluble Reactive Phosphorus (µg P/L)', '<0.25')\n",
    "zero_less_thans(data, 'Nitrate + Nitrite (mg N/L)', '<0.002')\n",
    "\n",
    "fill_less_thans(data, 'Extracted Phycocyanin (µg/L)')"
   ]
  },
  {
   "cell_type": "markdown",
   "metadata": {},
   "source": [
    "Drop row with anomalous and inconsistent Particulate Microcystin measurement."
   ]
  },
  {
   "cell_type": "code",
   "execution_count": 166,
   "metadata": {},
   "outputs": [],
   "source": [
    "data.drop(data[data['Particulate Microcystin (µg/L)'] == '2778.75 ± 294'].index, inplace = True)"
   ]
  },
  {
   "cell_type": "markdown",
   "metadata": {},
   "source": [
    "Cast all columns of interest as type float."
   ]
  },
  {
   "cell_type": "code",
   "execution_count": 167,
   "metadata": {},
   "outputs": [],
   "source": [
    "for column in columns:\n",
    "    if data[column].dtype != 'float64':\n",
    "        try:\n",
    "            data[column] = data[column].astype('float64')\n",
    "        except:\n",
    "            print(column)"
   ]
  },
  {
   "cell_type": "code",
   "execution_count": 190,
   "metadata": {},
   "outputs": [
    {
     "data": {
      "image/png": "[encoded data removed]",
      "text/plain": [
       "<Figure size 432x288 with 1 Axes>"
      ]
     },
     "metadata": {
      "needs_background": "light"
     },
     "output_type": "display_data"
    }
   ],
   "source": [
    "plt.barh(\n",
    "    y = data[columns].corr()['Particulate Microcystin (µg/L)'][1:].sort_values().index,\n",
    "    width = data[columns].corr()['Particulate Microcystin (µg/L)'][1:].sort_values().values\n",
    ");"
   ]
  },
  {
   "cell_type": "code",
   "execution_count": null,
   "metadata": {},
   "outputs": [],
   "source": []
  }
 ],
 "metadata": {
  "kernelspec": {
   "display_name": "Python 3",
   "language": "python",
   "name": "python3"
  },
  "language_info": {
   "codemirror_mode": {
    "name": "ipython",
    "version": 3
   },
   "file_extension": ".py",
   "mimetype": "text/x-python",
   "name": "python",
   "nbconvert_exporter": "python",
   "pygments_lexer": "ipython3",
   "version": "3.7.6"
  }
 },
 "nbformat": 4,
 "nbformat_minor": 4
}
